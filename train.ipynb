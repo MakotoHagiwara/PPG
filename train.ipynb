{
 "cells": [
  {
   "cell_type": "code",
   "execution_count": null,
   "metadata": {
    "scrolled": true
   },
   "outputs": [
    {
     "name": "stdout",
     "output_type": "stream",
     "text": [
      "Episode 0 finished | Average reward -233.710662\n",
      "Episode 100 finished | Average reward -115.805394\n"
     ]
    }
   ],
   "source": [
    "%matplotlib inline\n",
    "\n",
    "from pyvirtualdisplay import Display\n",
    "from gym.wrappers import Monitor\n",
    "\n",
    "import matplotlib\n",
    "import numpy as np\n",
    "import gym\n",
    "import torch\n",
    "from PPG_Agent import PpgAgent\n",
    "import matplotlib.pyplot as plt\n",
    "from torch.utils.tensorboard import SummaryWriter\n",
    "import pyglet\n",
    "\n",
    "import matplotlib.animation as animation\n",
    "import matplotlib.pyplot as plt\n",
    "\n",
    "gym.logger.set_level(40)\n",
    "from collections import deque\n",
    "from GymWrapper import ImgWrapper\n",
    "from util import layer_init\n",
    "from Noise import ActionNoise\n",
    "\n",
    "env = None\n",
    "is_image = False\n",
    "if is_image:\n",
    "    env = ImgWrapper(gym.make('LunarLanderContinuous-v2'), gray_scale=True)\n",
    "else:\n",
    "    env = gym.make('LunarLanderContinuous-v2')\n",
    "#検証用にシードを固定する\n",
    "np.random.seed(26)\n",
    "torch.manual_seed(26)\n",
    "torch.cuda.manual_seed(26)\n",
    "env.seed(26)\n",
    "\n",
    "num_episode = 2500  # 学習エピソード数（学習に時間がかかるので短めにしています）\n",
    "memory_size = 400000  # replay bufferの大きさ\n",
    "# ログ用の設定\n",
    "episode_rewards = []\n",
    "num_average_epidodes = 25\n",
    "device = torch.device(\"cuda:0\" if torch.cuda.is_available() else \"cpu\")\n",
    "writer = SummaryWriter(log_dir='./runs')\n",
    "max_steps = env.spec.max_episode_steps  # エピソードの最大ステップ数\n",
    "agent = PpgAgent(env.observation_space,\n",
    "                  env.action_space,\n",
    "                  device,\n",
    "                  memory_size=memory_size,\n",
    "                  writer=writer,\n",
    "                  is_image = is_image)\n",
    "\n",
    "for episode in range(num_episode):\n",
    "    state = env.reset()\n",
    "    episode_reward = 0\n",
    "    noise = ActionNoise(env.action_space.shape[0])\n",
    "    for t in range(max_steps):\n",
    "        action, log_pis = agent.get_action(state)  #  行動を選択\n",
    "        next_state, reward, done, _ = env.step(action)\n",
    "        episode_reward += reward\n",
    "        done_masked = False if t == (max_steps - 1) else done\n",
    "        agent.memory.add(state, action, reward, done_masked, log_pis)\n",
    "        agent.update(next_state)  # actorとcriticを更新\n",
    "        state = next_state\n",
    "        if done:\n",
    "            break\n",
    "    episode_rewards.append(episode_reward)\n",
    "    writer.add_scalar(\"reward\", episode_reward, episode)\n",
    "    #print(\"Episode %d finished | Episode reward %f\" % (episode, episode_reward))\n",
    "    if episode % 100 == 0:\n",
    "        sum_reward = 0.0\n",
    "        agent.memory.save_memory()\n",
    "        for k in range(50):\n",
    "            state = env.reset()\n",
    "            done = False\n",
    "            step = 0\n",
    "            while not done and step < max_steps:\n",
    "                step += 1\n",
    "                action, log_pis = agent.get_action(state)  #  行動を選択\n",
    "                next_state, reward, done, _ = env.step(action)\n",
    "                sum_reward += reward\n",
    "                state = next_state\n",
    "        print(\"Episode %d finished | Average reward %f\" % (episode, sum_reward / 50))\n",
    "\n",
    "# 累積報酬の移動平均を表示\n",
    "moving_average = np.convolve(episode_rewards, np.ones(num_average_epidodes)/num_average_epidodes, mode='valid')\n",
    "plt.plot(np.arange(len(moving_average)),moving_average)\n",
    "plt.title('PPG: average rewards in %d episodes' % num_average_epidodes)\n",
    "plt.xlabel('episode')\n",
    "plt.ylabel('rewards')\n",
    "plt.show()\n",
    "\n",
    "env.close()"
   ]
  },
  {
   "cell_type": "code",
   "execution_count": null,
   "metadata": {
    "collapsed": true
   },
   "outputs": [],
   "source": []
  }
 ],
 "metadata": {
  "kernelspec": {
   "display_name": "Python 3",
   "language": "python",
   "name": "python3"
  },
  "language_info": {
   "codemirror_mode": {
    "name": "ipython",
    "version": 3
   },
   "file_extension": ".py",
   "mimetype": "text/x-python",
   "name": "python",
   "nbconvert_exporter": "python",
   "pygments_lexer": "ipython3",
   "version": "3.6.3"
  }
 },
 "nbformat": 4,
 "nbformat_minor": 2
}
